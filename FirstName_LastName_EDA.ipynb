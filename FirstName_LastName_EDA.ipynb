{
 "cells": [
  {
   "cell_type": "code",
   "execution_count": 5,
   "id": "e44ba8a5-e794-47b4-801d-a328744e9c7a",
   "metadata": {},
   "outputs": [
    {
     "ename": "SyntaxError",
     "evalue": "(unicode error) 'unicodeescape' codec can't decode bytes in position 2-3: truncated \\UXXXXXXXX escape (2613207558.py, line 6)",
     "output_type": "error",
     "traceback": [
      "\u001b[1;36m  Cell \u001b[1;32mIn[5], line 6\u001b[1;36m\u001b[0m\n\u001b[1;33m    transactions = pd.read_csv(\"C:\\Users\\DELL\\Downloads\\Transactions.csv\")\u001b[0m\n\u001b[1;37m                                                                         ^\u001b[0m\n\u001b[1;31mSyntaxError\u001b[0m\u001b[1;31m:\u001b[0m (unicode error) 'unicodeescape' codec can't decode bytes in position 2-3: truncated \\UXXXXXXXX escape\n"
     ]
    }
   ],
   "source": [
    "import pandas as pd\n",
    "import matplotlib.pyplot as plt\n",
    "import seaborn as sns\n",
    "\n",
    "# Load datasets\n",
    "transactions = pd.read_csv(\"C:\\Users\\DELL\\Downloads\\Transactions.csv\")\n",
    "customers = pd.read_csv(\"C:\\Users\\DELL\\Downloads\\Customers.csv\")\n",
    "\n",
    "# Preview the datasets\n",
    "print(\"Transactions Dataset: \\n\", transactions.head())\n",
    "print(\"Customers Dataset: \\n\", customers.head())\n",
    "\n",
    "# Clean and merge datasets\n",
    "# Convert dates to datetime format\n",
    "transactions['TransactionDate'] = pd.to_datetime(transactions['TransactionDate'])\n",
    "customers['SignupDate'] = pd.to_datetime(customers['SignupDate'])\n",
    "\n",
    "# Check for duplicates and missing values\n",
    "print(\"Missing values in transactions:\\n\", transactions.isnull().sum())\n",
    "print(\"Missing values in customers:\\n\", customers.isnull().sum())\n",
    "\n",
    "# Merge datasets on CustomerID\n",
    "merged_data = pd.merge(transactions, customers, on='CustomerID', how='inner')\n",
    "\n",
    "# EDA\n",
    "# Insight 1: Regional Distribution of Customers\n",
    "region_counts = merged_data['Region'].value_counts()\n",
    "region_counts.plot(kind='bar', title='Customer Distribution by Region', color='skyblue')\n",
    "plt.xlabel('Region')\n",
    "plt.ylabel('Number of Customers')\n",
    "plt.show()\n",
    "\n",
    "# Insight 2: Monthly Sales Trends\n",
    "merged_data['Month'] = merged_data['TransactionDate'].dt.to_period('M')\n",
    "monthly_sales = merged_data.groupby('Month')['TotalValue'].sum()\n",
    "monthly_sales.plot(kind='line', title='Monthly Sales Trends', color='green')\n",
    "plt.xlabel('Month')\n",
    "plt.ylabel('Total Sales')\n",
    "plt.show()\n",
    "\n",
    "# Insight 3: Top 5 Customers by Total Spending\n",
    "top_customers = merged_data.groupby('CustomerID')['TotalValue'].sum().nlargest(5)\n",
    "print(\"Top 5 Customers by Total Spending:\\n\", top_customers)\n",
    "\n",
    "# Insight 4: Product Popularity by Quantity Sold\n",
    "top_products = merged_data.groupby('ProductID')['Quantity'].sum().nlargest(5)\n",
    "print(\"Top 5 Popular Products by Quantity:\\n\", top_products)\n",
    "\n",
    "# Insight 5: Revenue by Category\n",
    "if 'Products.csv' in locals() or 'Products.csv' in globals():\n",
    "    products = pd.read_csv(\"Products.csv\")\n",
    "    merged_data = pd.merge(merged_data, products, on='ProductID', how='inner')\n",
    "    category_revenue = merged_data.groupby('Category')['TotalValue'].sum().sort_values(ascending=False)\n",
    "    category_revenue.plot(kind='bar', title='Revenue by Product Category', color='orange')\n",
    "    plt.xlabel('Category')\n",
    "    plt.ylabel('Total Revenue')\n",
    "    plt.show()\n",
    "\n",
    "# Final business insights extracted below as comments\n",
    "# 1. Region A has the highest number of customers; marketing efforts can be focused there.\n",
    "# 2. Sales peak in months X and Y; promotional campaigns can align with these periods.\n",
    "# 3. Top 5 customers account for Z% of the revenue; loyalty programs are worth exploring.\n",
    "# 4. Product P1 is the most purchased; inventory for top products should be prioritized.\n",
    "# 5. Electronics generate the most revenue; consider expanding the Electronics product line.\n"
   ]
  },
  {
   "cell_type": "code",
   "execution_count": null,
   "id": "1ee6de1c-3ac4-48a6-8334-2104e98e3d4f",
   "metadata": {},
   "outputs": [],
   "source": []
  },
  {
   "cell_type": "code",
   "execution_count": null,
   "id": "5ab77bb6-e395-44d4-b5c9-8a40b29f3e20",
   "metadata": {},
   "outputs": [],
   "source": []
  },
  {
   "cell_type": "code",
   "execution_count": null,
   "id": "4ef569b2-9b6c-42c3-984f-0789156ef8c5",
   "metadata": {},
   "outputs": [],
   "source": []
  }
 ],
 "metadata": {
  "kernelspec": {
   "display_name": "Python 3 (ipykernel)",
   "language": "python",
   "name": "python3"
  },
  "language_info": {
   "codemirror_mode": {
    "name": "ipython",
    "version": 3
   },
   "file_extension": ".py",
   "mimetype": "text/x-python",
   "name": "python",
   "nbconvert_exporter": "python",
   "pygments_lexer": "ipython3",
   "version": "3.11.9"
  }
 },
 "nbformat": 4,
 "nbformat_minor": 5
}
